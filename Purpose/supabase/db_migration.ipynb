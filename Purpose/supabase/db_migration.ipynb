{
 "cells": [
  {
   "cell_type": "code",
   "execution_count": 1,
   "id": "184cd04e",
   "metadata": {},
   "outputs": [],
   "source": [
    "import os\n",
    "import psycopg2\n",
    "from supabase import create_client, Client\n",
    "from dotenv import load_dotenv\n",
    "from pathlib import Path\n",
    "import datetime\n",
    "\n",
    "\n",
    "# Load environment variables from .env file\n",
    "env_path = Path('__file__').parent.resolve().parent / '.env'\n",
    "if env_path.exists():\n",
    "    load_dotenv(dotenv_path=env_path)\n",
    "else:\n",
    "    print('No .env file found.')"
   ]
  },
  {
   "cell_type": "code",
   "execution_count": 2,
   "id": "2aa9a4e2",
   "metadata": {},
   "outputs": [],
   "source": [
    "def serialize_datetimes(obj):\n",
    "    if isinstance(obj, datetime.datetime):\n",
    "        return obj.isoformat()\n",
    "    elif isinstance(obj, datetime.date):\n",
    "        return obj.isoformat()  # This handles date objects\n",
    "    elif isinstance(obj, dict):\n",
    "        return {k: serialize_datetimes(v) for k, v in obj.items()}\n",
    "    elif isinstance(obj, list):\n",
    "        return [serialize_datetimes(item) for item in obj]\n",
    "    else:\n",
    "        return obj\n",
    "\n"
   ]
  },
  {
   "cell_type": "code",
   "execution_count": 3,
   "id": "5cfd4f0c",
   "metadata": {},
   "outputs": [],
   "source": [
    "def transfer_table(table_name: str):\n",
    "    # Fetch data from local DB\n",
    "    with local_conn.cursor() as cur:\n",
    "        cur.execute(f\"SELECT * FROM {table_name}\")\n",
    "        rows = cur.fetchall()\n",
    "        columns = [desc[0] for desc in cur.description]\n",
    "\n",
    "    if not rows:\n",
    "        print(f\"No data found in table {table_name}\")\n",
    "        return\n",
    "\n",
    "    # Convert each row into a dictionary {column: value}\n",
    "    records = [serialize_datetimes(dict(zip(columns, row))) for row in rows]\n",
    "\n",
    "    # Use the Supabase Python connector to insert data into the table\n",
    "    response = supabase_conn.table(table_name).insert(records).execute()\n",
    "\n",
    "    # Instead of checking response.error, use raise_when_api_error() to check for errors.\n",
    "    try:\n",
    "        response.raise_when_api_error(response.data)\n",
    "    except Exception as e:\n",
    "        print(f\"Error inserting into {table_name}: {e}\")\n",
    "    else:\n",
    "        print(f\"Successfully transferred {len(records)} rows into {table_name}\")\n"
   ]
  },
  {
   "cell_type": "code",
   "execution_count": 4,
   "id": "4aa94bfb",
   "metadata": {},
   "outputs": [],
   "source": [
    "local_conn = psycopg2.connect(\n",
    "    host=\"localhost\",\n",
    "    dbname=\"Kipu\",\n",
    "    user=\"postgres\",\n",
    "    password=\"#Lemontree501\",\n",
    "    port=\"5432\"\n",
    ")"
   ]
  },
  {
   "cell_type": "code",
   "execution_count": 5,
   "id": "ab61f32f",
   "metadata": {},
   "outputs": [],
   "source": [
    "url = os.environ.get(\"SUPABASE_URL\")\n",
    "key = os.environ.get(\"SUPABASE_KEY\")\n",
    "supabase_conn = create_client(url, key)"
   ]
  },
  {
   "cell_type": "code",
   "execution_count": 6,
   "id": "c1b7e442",
   "metadata": {},
   "outputs": [
    {
     "name": "stdout",
     "output_type": "stream",
     "text": [
      "Successfully transferred 286 rows into admin_discharge\n",
      "Successfully transferred 1090 rows into ama_forms\n",
      "Successfully transferred 1604 rows into detox_forms\n",
      "Successfully transferred 4018 rows into calendar\n",
      "Successfully transferred 5708 rows into latest\n",
      "Successfully transferred 15374 rows into program_history\n",
      "Successfully transferred 34 rows into ref_discharge_types\n",
      "Successfully transferred 29 rows into ref_program_types\n"
     ]
    },
    {
     "ename": "AttributeError",
     "evalue": "'SyncClient' object has no attribute 'close'",
     "output_type": "error",
     "traceback": [
      "\u001b[1;31m---------------------------------------------------------------------------\u001b[0m",
      "\u001b[1;31mAttributeError\u001b[0m                            Traceback (most recent call last)",
      "Cell \u001b[1;32mIn[6], line 9\u001b[0m\n\u001b[0;32m      7\u001b[0m \u001b[38;5;66;03m# Close connections\u001b[39;00m\n\u001b[0;32m      8\u001b[0m local_conn\u001b[38;5;241m.\u001b[39mclose()\n\u001b[1;32m----> 9\u001b[0m \u001b[43msupabase_conn\u001b[49m\u001b[38;5;241;43m.\u001b[39;49m\u001b[43mclose\u001b[49m()\n",
      "\u001b[1;31mAttributeError\u001b[0m: 'SyncClient' object has no attribute 'close'"
     ]
    }
   ],
   "source": [
    "# List of tables to transfer\n",
    "tables = ['admin_discharge', 'ama_forms', 'detox_forms', 'calendar', 'latest', 'program_history', 'ref_discharge_types', 'ref_program_types'] \n",
    "\n",
    "for table in tables:\n",
    "    transfer_table(table)\n",
    "\n",
    "# Close connections\n",
    "local_conn.close()"
   ]
  },
  {
   "cell_type": "code",
   "execution_count": null,
   "id": "1c956d73",
   "metadata": {},
   "outputs": [],
   "source": []
  }
 ],
 "metadata": {
  "kernelspec": {
   "display_name": "pythonstuff",
   "language": "python",
   "name": "python3"
  },
  "language_info": {
   "codemirror_mode": {
    "name": "ipython",
    "version": 3
   },
   "file_extension": ".py",
   "mimetype": "text/x-python",
   "name": "python",
   "nbconvert_exporter": "python",
   "pygments_lexer": "ipython3",
   "version": "3.12.0"
  }
 },
 "nbformat": 4,
 "nbformat_minor": 5
}
